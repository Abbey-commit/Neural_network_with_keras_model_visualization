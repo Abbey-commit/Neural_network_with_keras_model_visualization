{
 "cells": [
  {
   "cell_type": "markdown",
   "metadata": {},
   "source": [
    "# Let's import our dependencies that will be necessary to get our job done"
   ]
  },
  {
   "cell_type": "code",
   "execution_count": 14,
   "metadata": {},
   "outputs": [],
   "source": [
    "import tensorflow\n",
    "from tensorflow.keras.datasets import mnist\n",
    "from tensorflow.keras.models import Sequential\n",
    "from tensorflow.keras.layers import Dense, Dropout, Flatten\n",
    "from tensorflow.keras.layers import Conv2D, MaxPooling2D"
   ]
  },
  {
   "cell_type": "markdown",
   "metadata": {},
   "source": [
    "# Model configuration"
   ]
  },
  {
   "cell_type": "code",
   "execution_count": 2,
   "metadata": {},
   "outputs": [],
   "source": [
    "# Model configuration\n",
    "img_weight, img_height = 28, 28\n",
    "batch_size = 250\n",
    "no_epochs = 25\n",
    "no_classes = 10\n",
    "validation_split = 0.2\n",
    "verbosity = 1"
   ]
  },
  {
   "cell_type": "markdown",
   "metadata": {},
   "source": [
    "# Load and preprocess the dataset"
   ]
  },
  {
   "cell_type": "code",
   "execution_count": 3,
   "metadata": {},
   "outputs": [],
   "source": [
    "#Load datasets\n",
    "(input_train, target_train), (input_test, target_test) = mnist.load_data()"
   ]
  },
  {
   "cell_type": "code",
   "execution_count": 4,
   "metadata": {},
   "outputs": [],
   "source": [
    "sample_shape = input_train[0].shape\n",
    "img_weight, img_height = sample_shape[0], sample_shape[1]\n",
    "input_shape = (img_weight, img_height, 1)"
   ]
  },
  {
   "cell_type": "code",
   "execution_count": 5,
   "metadata": {},
   "outputs": [],
   "source": [
    "# Reshape data\n",
    "input_train = input_train.reshape(len(input_train), input_shape[0], input_shape[1], input_shape[2])\n",
    "input_test = input_test.reshape(len(input_test), input_shape[0], input_shape[1], input_shape[2])"
   ]
  },
  {
   "cell_type": "code",
   "execution_count": 6,
   "metadata": {},
   "outputs": [],
   "source": [
    "# Parse data as float\n",
    "input_train = input_train.astype('float32')\n",
    "input_test = input_test.astype('float32')"
   ]
  },
  {
   "cell_type": "code",
   "execution_count": 7,
   "metadata": {},
   "outputs": [],
   "source": [
    "# Convert them into black or white (0,1)\n",
    "input_train = input_train / 255\n",
    "input_test = input_test / 255"
   ]
  },
  {
   "cell_type": "markdown",
   "metadata": {},
   "source": [
    "# Prepare by converting the target vector with to_categorical"
   ]
  },
  {
   "cell_type": "code",
   "execution_count": 8,
   "metadata": {},
   "outputs": [],
   "source": [
    "# Convert targeet vectors to categorical targets\n",
    "target_train = tensorflow.keras.utils.to_categorical(target_train, no_classes)\n",
    "target_test = tensorflow.keras.utils.to_categorical(target_test, no_classes)"
   ]
  },
  {
   "cell_type": "code",
   "execution_count": 9,
   "metadata": {},
   "outputs": [],
   "source": [
    "# Create Model\n",
    "model = Sequential()\n",
    "model.add(Conv2D(32, kernel_size=(3, 3), activation='relu', input_shape=input_shape))\n",
    "model.add(MaxPooling2D(pool_size=(2, 2)))\n",
    "model.add(Dropout(0.2))\n",
    "model.add(Conv2D(64, kernel_size=(3, 3), activation='relu'))\n",
    "model.add(MaxPooling2D(pool_size=(2, 2)))\n",
    "model.add(Dropout(0.25))\n",
    "model.add(Flatten())\n",
    "model.add(Dense(256, activation='relu'))\n",
    "model.add(Dense(no_classes, activation='softmax'))"
   ]
  },
  {
   "cell_type": "markdown",
   "metadata": {},
   "source": [
    "# Model compilation and training process\n",
    "\n",
    "We compile the model and start the training by fitting the model"
   ]
  },
  {
   "cell_type": "code",
   "execution_count": 10,
   "metadata": {},
   "outputs": [],
   "source": [
    "# Compile the Model \n",
    "model.compile(loss=tensorflow.keras.losses.categorical_crossentropy,\n",
    "             optimizer=tensorflow.keras.optimizers.Adam(),\n",
    "             metrics=['accuracy'])\n",
    "\n",
    "# model.compile(loss=tensorflow.keras.losses.categorical_crossentropy,\n",
    "#               optimizer=tensorflow.keras.optimizers.Adam(),\n",
    "#               metrics=['accuracy'])"
   ]
  },
  {
   "cell_type": "code",
   "execution_count": 11,
   "metadata": {},
   "outputs": [
    {
     "name": "stdout",
     "output_type": "stream",
     "text": [
      "Epoch 1/25\n",
      "192/192 [==============================] - 41s 209ms/step - loss: 0.7134 - accuracy: 0.7858 - val_loss: 0.0962 - val_accuracy: 0.9706\n",
      "Epoch 2/25\n",
      "192/192 [==============================] - 40s 206ms/step - loss: 0.1092 - accuracy: 0.9658 - val_loss: 0.0621 - val_accuracy: 0.9815\n",
      "Epoch 3/25\n",
      "192/192 [==============================] - 38s 197ms/step - loss: 0.0715 - accuracy: 0.9777 - val_loss: 0.0611 - val_accuracy: 0.9813\n",
      "Epoch 4/25\n",
      "192/192 [==============================] - 38s 197ms/step - loss: 0.0581 - accuracy: 0.9813 - val_loss: 0.0479 - val_accuracy: 0.9866\n",
      "Epoch 5/25\n",
      "192/192 [==============================] - 38s 197ms/step - loss: 0.0433 - accuracy: 0.9870 - val_loss: 0.0417 - val_accuracy: 0.9872\n",
      "Epoch 6/25\n",
      "192/192 [==============================] - 48s 248ms/step - loss: 0.0362 - accuracy: 0.9886 - val_loss: 0.0357 - val_accuracy: 0.9902\n",
      "Epoch 7/25\n",
      "192/192 [==============================] - 43s 222ms/step - loss: 0.0313 - accuracy: 0.9902 - val_loss: 0.0415 - val_accuracy: 0.9873\n",
      "Epoch 8/25\n",
      "192/192 [==============================] - 41s 212ms/step - loss: 0.0302 - accuracy: 0.9897 - val_loss: 0.0322 - val_accuracy: 0.9906\n",
      "Epoch 9/25\n",
      "192/192 [==============================] - 40s 208ms/step - loss: 0.0245 - accuracy: 0.9927 - val_loss: 0.0330 - val_accuracy: 0.9906\n",
      "Epoch 10/25\n",
      "192/192 [==============================] - 45s 235ms/step - loss: 0.0232 - accuracy: 0.9918 - val_loss: 0.0297 - val_accuracy: 0.9913\n",
      "Epoch 11/25\n",
      "192/192 [==============================] - 39s 203ms/step - loss: 0.0189 - accuracy: 0.9938 - val_loss: 0.0336 - val_accuracy: 0.9906\n",
      "Epoch 12/25\n",
      "192/192 [==============================] - 42s 220ms/step - loss: 0.0173 - accuracy: 0.9944 - val_loss: 0.0282 - val_accuracy: 0.9908\n",
      "Epoch 13/25\n",
      "192/192 [==============================] - 43s 223ms/step - loss: 0.0161 - accuracy: 0.9945 - val_loss: 0.0333 - val_accuracy: 0.9908\n",
      "Epoch 14/25\n",
      "192/192 [==============================] - 43s 223ms/step - loss: 0.0133 - accuracy: 0.9948 - val_loss: 0.0325 - val_accuracy: 0.9912\n",
      "Epoch 15/25\n",
      "192/192 [==============================] - 43s 225ms/step - loss: 0.0126 - accuracy: 0.9958 - val_loss: 0.0334 - val_accuracy: 0.9906\n",
      "Epoch 16/25\n",
      "192/192 [==============================] - 44s 230ms/step - loss: 0.0135 - accuracy: 0.9957 - val_loss: 0.0356 - val_accuracy: 0.9919\n",
      "Epoch 17/25\n",
      "192/192 [==============================] - 42s 219ms/step - loss: 0.0105 - accuracy: 0.9964 - val_loss: 0.0304 - val_accuracy: 0.9924\n",
      "Epoch 18/25\n",
      "192/192 [==============================] - 42s 218ms/step - loss: 0.0099 - accuracy: 0.9964 - val_loss: 0.0341 - val_accuracy: 0.9909\n",
      "Epoch 19/25\n",
      "192/192 [==============================] - 42s 221ms/step - loss: 0.0097 - accuracy: 0.9963 - val_loss: 0.0354 - val_accuracy: 0.9913\n",
      "Epoch 20/25\n",
      "192/192 [==============================] - 40s 210ms/step - loss: 0.0112 - accuracy: 0.9961 - val_loss: 0.0404 - val_accuracy: 0.9912\n",
      "Epoch 21/25\n",
      "192/192 [==============================] - 43s 226ms/step - loss: 0.0088 - accuracy: 0.9970 - val_loss: 0.0340 - val_accuracy: 0.9918\n",
      "Epoch 22/25\n",
      "192/192 [==============================] - 41s 213ms/step - loss: 0.0087 - accuracy: 0.9970 - val_loss: 0.0348 - val_accuracy: 0.9911\n",
      "Epoch 23/25\n",
      "192/192 [==============================] - 41s 212ms/step - loss: 0.0071 - accuracy: 0.9980 - val_loss: 0.0333 - val_accuracy: 0.9921\n",
      "Epoch 24/25\n",
      "192/192 [==============================] - 42s 219ms/step - loss: 0.0073 - accuracy: 0.9977 - val_loss: 0.0355 - val_accuracy: 0.9923\n",
      "Epoch 25/25\n",
      "192/192 [==============================] - 41s 214ms/step - loss: 0.0059 - accuracy: 0.9981 - val_loss: 0.0331 - val_accuracy: 0.9929\n"
     ]
    },
    {
     "data": {
      "text/plain": [
       "<tensorflow.python.keras.callbacks.History at 0x1e46680a548>"
      ]
     },
     "execution_count": 11,
     "metadata": {},
     "output_type": "execute_result"
    }
   ],
   "source": [
    "# Fit data to model\n",
    "model.fit(input_train, target_train,\n",
    "         batch_size = batch_size,\n",
    "         epochs = no_epochs,\n",
    "         validation_split = validation_split,\n",
    "         verbose = verbosity)"
   ]
  },
  {
   "cell_type": "code",
   "execution_count": null,
   "metadata": {},
   "outputs": [],
   "source": [
    "#"
   ]
  },
  {
   "cell_type": "code",
   "execution_count": 12,
   "metadata": {},
   "outputs": [
    {
     "data": {
      "image/png": "[encoded data removed]",
      "text/plain": [
       "<IPython.core.display.Image object>"
      ]
     },
     "execution_count": 12,
     "metadata": {},
     "output_type": "execute_result"
    }
   ],
   "source": [
    "import keras\n",
    "import pydot\n",
    "import pydotplus\n",
    "from pydotplus import graphviz\n",
    "from keras.utils.vis_utils import plot_model\n",
    "from keras.utils.vis_utils import model_to_dot\n",
    "keras.utils.vis_utils.pydot = pydot\n",
    "\n",
    "from tensorflow.keras.utils import plot_model\n",
    "plot_model(model, to_file='model.png')"
   ]
  },
  {
   "cell_type": "code",
   "execution_count": 13,
   "metadata": {},
   "outputs": [
    {
     "name": "stdout",
     "output_type": "stream",
     "text": [
      "Requirement already satisfied: pydotplus in c:\\anaconda\\lib\\site-packages (2.0.2)\n",
      "Requirement already satisfied: pyparsing>=2.0.1 in c:\\anaconda\\lib\\site-packages (from pydotplus) (2.4.6)\n",
      "Note: you may need to restart the kernel to use updated packages.\n"
     ]
    }
   ],
   "source": [
    "# Adding test metrics for test generalization"
   ]
  },
  {
   "cell_type": "code",
   "execution_count": 15,
   "metadata": {},
   "outputs": [
    {
     "name": "stdout",
     "output_type": "stream",
     "text": [
      "Test loss: 0.02597219869494438 / Test accuracy: 0.992900013923645\n"
     ]
    }
   ],
   "source": [
    "# Generate generalization metrics\n",
    "score = model.evaluate(input_test, target_test, verbose=0)\n",
    "print(f'Test loss: {score[0]} / Test accuracy: {score[1]}')"
   ]
  },
  {
   "cell_type": "code",
   "execution_count": null,
   "metadata": {},
   "outputs": [],
   "source": []
  }
 ],
 "metadata": {
  "kernelspec": {
   "display_name": "Python 3",
   "language": "python",
   "name": "python3"
  },
  "language_info": {
   "codemirror_mode": {
    "name": "ipython",
    "version": 3
   },
   "file_extension": ".py",
   "mimetype": "text/x-python",
   "name": "python",
   "nbconvert_exporter": "python",
   "pygments_lexer": "ipython3",
   "version": "3.7.6"
  }
 },
 "nbformat": 4,
 "nbformat_minor": 4
}
